{
  "cells": [
    {
      "cell_type": "markdown",
      "metadata": {
        "id": "view-in-github",
        "colab_type": "text"
      },
      "source": [
        "<a href=\"https://colab.research.google.com/github/andreea-bodea/bachelors-thesis-informatics/blob/main/BT%20INFO%20-%20Parler%20Data%20Sample%20Formation%20Part%202.ipynb\" target=\"_parent\"><img src=\"https://colab.research.google.com/assets/colab-badge.svg\" alt=\"Open In Colab\"/></a>"
      ]
    },
    {
      "cell_type": "markdown",
      "source": [
        "Parler DATA SAMPLES FORMATION Part 2\n",
        "\n",
        "Sample dimensions after part 1:\n",
        "*   NOV 2020 sample -> 300.000 parleys\n",
        "*   DEC 2020 sample -> 300.000 parleys\n",
        "*   JAN 2021 sample -> 100.000 parleys\n",
        "\n",
        "5. Read csv files with parleys from Nov 2020, Dec 2020 and Jan 2021 into pandas dataframes\n",
        "6. Concatenate the 3 pandas dataframes to a single dataframe\n",
        "7. Select relevant information (only body of posts) from pandas dataframe\n",
        "8. Drop duplicates of posts\n",
        "9. Drop posts with 3 words or less (=> 409068 posts left)\n",
        "10. Create dataframe for training sentence transformer with 100.000 randomly selected posts \n",
        "11. Create dataframe for testing topic modelling algorithms with the remaining posts (309063 parleys)\n",
        "12. Save the two final dataframes without index as CSV files \n",
        "\n",
        "Dimensions after part 2:\n",
        "*  Parler trainig sample -> 100.000 parleys\n",
        "*  Parler testing sample -> 309.068 parleys"
      ],
      "metadata": {
        "id": "CtEGUJn94x4X"
      }
    },
    {
      "cell_type": "code",
      "execution_count": null,
      "metadata": {
        "colab": {
          "base_uri": "https://localhost:8080/",
          "height": 142
        },
        "id": "nOzpwmvj7RBl",
        "outputId": "5dd612e6-055b-47b2-86fd-45f420f58b6f"
      },
      "outputs": [
        {
          "output_type": "display_data",
          "data": {
            "text/plain": [
              "<IPython.core.display.HTML object>"
            ],
            "text/html": [
              "\n",
              "     <input type=\"file\" id=\"files-82eafdc5-d4a0-4c4f-be54-0fc33708b2a0\" name=\"files[]\" multiple disabled\n",
              "        style=\"border:none\" />\n",
              "     <output id=\"result-82eafdc5-d4a0-4c4f-be54-0fc33708b2a0\">\n",
              "      Upload widget is only available when the cell has been executed in the\n",
              "      current browser session. Please rerun this cell to enable.\n",
              "      </output>\n",
              "      <script>// Copyright 2017 Google LLC\n",
              "//\n",
              "// Licensed under the Apache License, Version 2.0 (the \"License\");\n",
              "// you may not use this file except in compliance with the License.\n",
              "// You may obtain a copy of the License at\n",
              "//\n",
              "//      http://www.apache.org/licenses/LICENSE-2.0\n",
              "//\n",
              "// Unless required by applicable law or agreed to in writing, software\n",
              "// distributed under the License is distributed on an \"AS IS\" BASIS,\n",
              "// WITHOUT WARRANTIES OR CONDITIONS OF ANY KIND, either express or implied.\n",
              "// See the License for the specific language governing permissions and\n",
              "// limitations under the License.\n",
              "\n",
              "/**\n",
              " * @fileoverview Helpers for google.colab Python module.\n",
              " */\n",
              "(function(scope) {\n",
              "function span(text, styleAttributes = {}) {\n",
              "  const element = document.createElement('span');\n",
              "  element.textContent = text;\n",
              "  for (const key of Object.keys(styleAttributes)) {\n",
              "    element.style[key] = styleAttributes[key];\n",
              "  }\n",
              "  return element;\n",
              "}\n",
              "\n",
              "// Max number of bytes which will be uploaded at a time.\n",
              "const MAX_PAYLOAD_SIZE = 100 * 1024;\n",
              "\n",
              "function _uploadFiles(inputId, outputId) {\n",
              "  const steps = uploadFilesStep(inputId, outputId);\n",
              "  const outputElement = document.getElementById(outputId);\n",
              "  // Cache steps on the outputElement to make it available for the next call\n",
              "  // to uploadFilesContinue from Python.\n",
              "  outputElement.steps = steps;\n",
              "\n",
              "  return _uploadFilesContinue(outputId);\n",
              "}\n",
              "\n",
              "// This is roughly an async generator (not supported in the browser yet),\n",
              "// where there are multiple asynchronous steps and the Python side is going\n",
              "// to poll for completion of each step.\n",
              "// This uses a Promise to block the python side on completion of each step,\n",
              "// then passes the result of the previous step as the input to the next step.\n",
              "function _uploadFilesContinue(outputId) {\n",
              "  const outputElement = document.getElementById(outputId);\n",
              "  const steps = outputElement.steps;\n",
              "\n",
              "  const next = steps.next(outputElement.lastPromiseValue);\n",
              "  return Promise.resolve(next.value.promise).then((value) => {\n",
              "    // Cache the last promise value to make it available to the next\n",
              "    // step of the generator.\n",
              "    outputElement.lastPromiseValue = value;\n",
              "    return next.value.response;\n",
              "  });\n",
              "}\n",
              "\n",
              "/**\n",
              " * Generator function which is called between each async step of the upload\n",
              " * process.\n",
              " * @param {string} inputId Element ID of the input file picker element.\n",
              " * @param {string} outputId Element ID of the output display.\n",
              " * @return {!Iterable<!Object>} Iterable of next steps.\n",
              " */\n",
              "function* uploadFilesStep(inputId, outputId) {\n",
              "  const inputElement = document.getElementById(inputId);\n",
              "  inputElement.disabled = false;\n",
              "\n",
              "  const outputElement = document.getElementById(outputId);\n",
              "  outputElement.innerHTML = '';\n",
              "\n",
              "  const pickedPromise = new Promise((resolve) => {\n",
              "    inputElement.addEventListener('change', (e) => {\n",
              "      resolve(e.target.files);\n",
              "    });\n",
              "  });\n",
              "\n",
              "  const cancel = document.createElement('button');\n",
              "  inputElement.parentElement.appendChild(cancel);\n",
              "  cancel.textContent = 'Cancel upload';\n",
              "  const cancelPromise = new Promise((resolve) => {\n",
              "    cancel.onclick = () => {\n",
              "      resolve(null);\n",
              "    };\n",
              "  });\n",
              "\n",
              "  // Wait for the user to pick the files.\n",
              "  const files = yield {\n",
              "    promise: Promise.race([pickedPromise, cancelPromise]),\n",
              "    response: {\n",
              "      action: 'starting',\n",
              "    }\n",
              "  };\n",
              "\n",
              "  cancel.remove();\n",
              "\n",
              "  // Disable the input element since further picks are not allowed.\n",
              "  inputElement.disabled = true;\n",
              "\n",
              "  if (!files) {\n",
              "    return {\n",
              "      response: {\n",
              "        action: 'complete',\n",
              "      }\n",
              "    };\n",
              "  }\n",
              "\n",
              "  for (const file of files) {\n",
              "    const li = document.createElement('li');\n",
              "    li.append(span(file.name, {fontWeight: 'bold'}));\n",
              "    li.append(span(\n",
              "        `(${file.type || 'n/a'}) - ${file.size} bytes, ` +\n",
              "        `last modified: ${\n",
              "            file.lastModifiedDate ? file.lastModifiedDate.toLocaleDateString() :\n",
              "                                    'n/a'} - `));\n",
              "    const percent = span('0% done');\n",
              "    li.appendChild(percent);\n",
              "\n",
              "    outputElement.appendChild(li);\n",
              "\n",
              "    const fileDataPromise = new Promise((resolve) => {\n",
              "      const reader = new FileReader();\n",
              "      reader.onload = (e) => {\n",
              "        resolve(e.target.result);\n",
              "      };\n",
              "      reader.readAsArrayBuffer(file);\n",
              "    });\n",
              "    // Wait for the data to be ready.\n",
              "    let fileData = yield {\n",
              "      promise: fileDataPromise,\n",
              "      response: {\n",
              "        action: 'continue',\n",
              "      }\n",
              "    };\n",
              "\n",
              "    // Use a chunked sending to avoid message size limits. See b/62115660.\n",
              "    let position = 0;\n",
              "    do {\n",
              "      const length = Math.min(fileData.byteLength - position, MAX_PAYLOAD_SIZE);\n",
              "      const chunk = new Uint8Array(fileData, position, length);\n",
              "      position += length;\n",
              "\n",
              "      const base64 = btoa(String.fromCharCode.apply(null, chunk));\n",
              "      yield {\n",
              "        response: {\n",
              "          action: 'append',\n",
              "          file: file.name,\n",
              "          data: base64,\n",
              "        },\n",
              "      };\n",
              "\n",
              "      let percentDone = fileData.byteLength === 0 ?\n",
              "          100 :\n",
              "          Math.round((position / fileData.byteLength) * 100);\n",
              "      percent.textContent = `${percentDone}% done`;\n",
              "\n",
              "    } while (position < fileData.byteLength);\n",
              "  }\n",
              "\n",
              "  // All done.\n",
              "  yield {\n",
              "    response: {\n",
              "      action: 'complete',\n",
              "    }\n",
              "  };\n",
              "}\n",
              "\n",
              "scope.google = scope.google || {};\n",
              "scope.google.colab = scope.google.colab || {};\n",
              "scope.google.colab._files = {\n",
              "  _uploadFiles,\n",
              "  _uploadFilesContinue,\n",
              "};\n",
              "})(self);\n",
              "</script> "
            ]
          },
          "metadata": {}
        },
        {
          "output_type": "stream",
          "name": "stdout",
          "text": [
            "Saving parler_df_dec_300000.csv to parler_df_dec_300000.csv\n",
            "Saving parler_df_jan_100000.csv to parler_df_jan_100000.csv\n",
            "Saving parler_df_nov_300000.csv to parler_df_nov_300000.csv\n"
          ]
        }
      ],
      "source": [
        "# Upload csv file with posts to Google Colab \n",
        "from google.colab import files\n",
        "uploaded = files.upload()"
      ]
    },
    {
      "cell_type": "code",
      "execution_count": null,
      "metadata": {
        "colab": {
          "base_uri": "https://localhost:8080/"
        },
        "id": "DXbnxNM37oxA",
        "outputId": "113ac105-51e9-471e-c3d0-c9e7d2921754"
      },
      "outputs": [
        {
          "output_type": "stream",
          "name": "stdout",
          "text": [
            "                                                     body createdAtformatted\n",
            "0       glad see parler free speech actually alive wel...         2020-11-08\n",
            "1                                      cannot imagine why         2020-11-20\n",
            "2       keep keeping robertfrank you awesome real real...         2020-11-17\n",
            "3                                 not enough year minimum         2020-11-13\n",
            "4                                   thing bloody annoying         2020-11-08\n",
            "...                                                   ...                ...\n",
            "299995  welcome parler help make america great clickin...         2020-11-10\n",
            "299996  texan floridian get vaccine they are fine they...         2020-11-18\n",
            "299997                  great news anything come december         2020-11-27\n",
            "299998  welcome parler hope enjoy new found freedom fu...         2020-11-24\n",
            "299999  welcome people looking parler tip tos check pa...         2020-11-17\n",
            "\n",
            "[300000 rows x 2 columns]\n",
            "                                                     body createdAtformatted\n",
            "0                       professor like pot head gone meth         2020-12-13\n",
            "1                                    need spread news ann         2020-12-10\n",
            "2                                          hang pedophile         2020-12-25\n",
            "3       ivanka must sex love deprived human being ever...         2020-12-08\n",
            "4                                       cjsteeler disable         2020-12-18\n",
            "...                                                   ...                ...\n",
            "299995  carolwynham know dad abortion depopulation dem...         2020-12-22\n",
            "299996                                                say         2020-12-19\n",
            "299997  say boycott every freaking sport football base...         2020-12-08\n",
            "299998                                  deepstateoperator         2020-12-20\n",
            "299999                                         know right         2020-12-09\n",
            "\n",
            "[300000 rows x 2 columns]\n",
            "                                                    body createdAtformatted\n",
            "0                                             biden pedo         2021-01-07\n",
            "1      qanonsense know shock not need government look...         2021-01-02\n",
            "2                       sjwhunter fucked should have cap         2021-01-08\n",
            "3                        presidentbiden life bring pussy         2021-01-01\n",
            "4                                               snailman         2021-01-05\n",
            "...                                                  ...                ...\n",
            "99995                                             antifa         2021-01-08\n",
            "99996                  socialist make case socialist son         2021-01-09\n",
            "99997  home not safe denounce fire law enforcement de...         2021-01-06\n",
            "99998                        she proven again she insane         2021-01-04\n",
            "99999                                          true word         2021-01-09\n",
            "\n",
            "[100000 rows x 2 columns]\n"
          ]
        }
      ],
      "source": [
        "# 5. Read csv files with parleys from Nov 2020, Dec 2020 and Jan 2021 into pandas dataframes\n",
        "import pandas as pd\n",
        "import io\n",
        "parler_df_nov = pd.read_csv(io.BytesIO(uploaded['parler_df_nov_300000.csv']))\n",
        "parler_df_dec = pd.read_csv(io.BytesIO(uploaded['parler_df_dec_300000.csv']))\n",
        "parler_df_jan = pd.read_csv(io.BytesIO(uploaded['parler_df_jan_100000.csv']))\n",
        "print(parler_df_nov)\n",
        "print(parler_df_dec)\n",
        "print(parler_df_jan)"
      ]
    },
    {
      "cell_type": "code",
      "source": [
        "# 6. Concatenate pandas dataframes to a single dataframe\n",
        "parler_df_all = pd.concat([parler_df_nov, parler_df_dec, parler_df_jan], ignore_index=True)\n",
        "parler_df_all"
      ],
      "metadata": {
        "colab": {
          "base_uri": "https://localhost:8080/",
          "height": 424
        },
        "id": "zXCSSli5DZs1",
        "outputId": "b6fdc925-6e79-46f2-aed4-44dde6846384"
      },
      "execution_count": null,
      "outputs": [
        {
          "output_type": "execute_result",
          "data": {
            "text/plain": [
              "                                                     body createdAtformatted\n",
              "0       glad see parler free speech actually alive wel...         2020-11-08\n",
              "1                                      cannot imagine why         2020-11-20\n",
              "2       keep keeping robertfrank you awesome real real...         2020-11-17\n",
              "3                                 not enough year minimum         2020-11-13\n",
              "4                                   thing bloody annoying         2020-11-08\n",
              "...                                                   ...                ...\n",
              "699995                                             antifa         2021-01-08\n",
              "699996                  socialist make case socialist son         2021-01-09\n",
              "699997  home not safe denounce fire law enforcement de...         2021-01-06\n",
              "699998                        she proven again she insane         2021-01-04\n",
              "699999                                          true word         2021-01-09\n",
              "\n",
              "[700000 rows x 2 columns]"
            ],
            "text/html": [
              "\n",
              "  <div id=\"df-5ca325c0-caef-463f-991b-880057ee1bc2\">\n",
              "    <div class=\"colab-df-container\">\n",
              "      <div>\n",
              "<style scoped>\n",
              "    .dataframe tbody tr th:only-of-type {\n",
              "        vertical-align: middle;\n",
              "    }\n",
              "\n",
              "    .dataframe tbody tr th {\n",
              "        vertical-align: top;\n",
              "    }\n",
              "\n",
              "    .dataframe thead th {\n",
              "        text-align: right;\n",
              "    }\n",
              "</style>\n",
              "<table border=\"1\" class=\"dataframe\">\n",
              "  <thead>\n",
              "    <tr style=\"text-align: right;\">\n",
              "      <th></th>\n",
              "      <th>body</th>\n",
              "      <th>createdAtformatted</th>\n",
              "    </tr>\n",
              "  </thead>\n",
              "  <tbody>\n",
              "    <tr>\n",
              "      <th>0</th>\n",
              "      <td>glad see parler free speech actually alive wel...</td>\n",
              "      <td>2020-11-08</td>\n",
              "    </tr>\n",
              "    <tr>\n",
              "      <th>1</th>\n",
              "      <td>cannot imagine why</td>\n",
              "      <td>2020-11-20</td>\n",
              "    </tr>\n",
              "    <tr>\n",
              "      <th>2</th>\n",
              "      <td>keep keeping robertfrank you awesome real real...</td>\n",
              "      <td>2020-11-17</td>\n",
              "    </tr>\n",
              "    <tr>\n",
              "      <th>3</th>\n",
              "      <td>not enough year minimum</td>\n",
              "      <td>2020-11-13</td>\n",
              "    </tr>\n",
              "    <tr>\n",
              "      <th>4</th>\n",
              "      <td>thing bloody annoying</td>\n",
              "      <td>2020-11-08</td>\n",
              "    </tr>\n",
              "    <tr>\n",
              "      <th>...</th>\n",
              "      <td>...</td>\n",
              "      <td>...</td>\n",
              "    </tr>\n",
              "    <tr>\n",
              "      <th>699995</th>\n",
              "      <td>antifa</td>\n",
              "      <td>2021-01-08</td>\n",
              "    </tr>\n",
              "    <tr>\n",
              "      <th>699996</th>\n",
              "      <td>socialist make case socialist son</td>\n",
              "      <td>2021-01-09</td>\n",
              "    </tr>\n",
              "    <tr>\n",
              "      <th>699997</th>\n",
              "      <td>home not safe denounce fire law enforcement de...</td>\n",
              "      <td>2021-01-06</td>\n",
              "    </tr>\n",
              "    <tr>\n",
              "      <th>699998</th>\n",
              "      <td>she proven again she insane</td>\n",
              "      <td>2021-01-04</td>\n",
              "    </tr>\n",
              "    <tr>\n",
              "      <th>699999</th>\n",
              "      <td>true word</td>\n",
              "      <td>2021-01-09</td>\n",
              "    </tr>\n",
              "  </tbody>\n",
              "</table>\n",
              "<p>700000 rows × 2 columns</p>\n",
              "</div>\n",
              "      <button class=\"colab-df-convert\" onclick=\"convertToInteractive('df-5ca325c0-caef-463f-991b-880057ee1bc2')\"\n",
              "              title=\"Convert this dataframe to an interactive table.\"\n",
              "              style=\"display:none;\">\n",
              "        \n",
              "  <svg xmlns=\"http://www.w3.org/2000/svg\" height=\"24px\"viewBox=\"0 0 24 24\"\n",
              "       width=\"24px\">\n",
              "    <path d=\"M0 0h24v24H0V0z\" fill=\"none\"/>\n",
              "    <path d=\"M18.56 5.44l.94 2.06.94-2.06 2.06-.94-2.06-.94-.94-2.06-.94 2.06-2.06.94zm-11 1L8.5 8.5l.94-2.06 2.06-.94-2.06-.94L8.5 2.5l-.94 2.06-2.06.94zm10 10l.94 2.06.94-2.06 2.06-.94-2.06-.94-.94-2.06-.94 2.06-2.06.94z\"/><path d=\"M17.41 7.96l-1.37-1.37c-.4-.4-.92-.59-1.43-.59-.52 0-1.04.2-1.43.59L10.3 9.45l-7.72 7.72c-.78.78-.78 2.05 0 2.83L4 21.41c.39.39.9.59 1.41.59.51 0 1.02-.2 1.41-.59l7.78-7.78 2.81-2.81c.8-.78.8-2.07 0-2.86zM5.41 20L4 18.59l7.72-7.72 1.47 1.35L5.41 20z\"/>\n",
              "  </svg>\n",
              "      </button>\n",
              "      \n",
              "  <style>\n",
              "    .colab-df-container {\n",
              "      display:flex;\n",
              "      flex-wrap:wrap;\n",
              "      gap: 12px;\n",
              "    }\n",
              "\n",
              "    .colab-df-convert {\n",
              "      background-color: #E8F0FE;\n",
              "      border: none;\n",
              "      border-radius: 50%;\n",
              "      cursor: pointer;\n",
              "      display: none;\n",
              "      fill: #1967D2;\n",
              "      height: 32px;\n",
              "      padding: 0 0 0 0;\n",
              "      width: 32px;\n",
              "    }\n",
              "\n",
              "    .colab-df-convert:hover {\n",
              "      background-color: #E2EBFA;\n",
              "      box-shadow: 0px 1px 2px rgba(60, 64, 67, 0.3), 0px 1px 3px 1px rgba(60, 64, 67, 0.15);\n",
              "      fill: #174EA6;\n",
              "    }\n",
              "\n",
              "    [theme=dark] .colab-df-convert {\n",
              "      background-color: #3B4455;\n",
              "      fill: #D2E3FC;\n",
              "    }\n",
              "\n",
              "    [theme=dark] .colab-df-convert:hover {\n",
              "      background-color: #434B5C;\n",
              "      box-shadow: 0px 1px 3px 1px rgba(0, 0, 0, 0.15);\n",
              "      filter: drop-shadow(0px 1px 2px rgba(0, 0, 0, 0.3));\n",
              "      fill: #FFFFFF;\n",
              "    }\n",
              "  </style>\n",
              "\n",
              "      <script>\n",
              "        const buttonEl =\n",
              "          document.querySelector('#df-5ca325c0-caef-463f-991b-880057ee1bc2 button.colab-df-convert');\n",
              "        buttonEl.style.display =\n",
              "          google.colab.kernel.accessAllowed ? 'block' : 'none';\n",
              "\n",
              "        async function convertToInteractive(key) {\n",
              "          const element = document.querySelector('#df-5ca325c0-caef-463f-991b-880057ee1bc2');\n",
              "          const dataTable =\n",
              "            await google.colab.kernel.invokeFunction('convertToInteractive',\n",
              "                                                     [key], {});\n",
              "          if (!dataTable) return;\n",
              "\n",
              "          const docLinkHtml = 'Like what you see? Visit the ' +\n",
              "            '<a target=\"_blank\" href=https://colab.research.google.com/notebooks/data_table.ipynb>data table notebook</a>'\n",
              "            + ' to learn more about interactive tables.';\n",
              "          element.innerHTML = '';\n",
              "          dataTable['output_type'] = 'display_data';\n",
              "          await google.colab.output.renderOutput(dataTable, element);\n",
              "          const docLink = document.createElement('div');\n",
              "          docLink.innerHTML = docLinkHtml;\n",
              "          element.appendChild(docLink);\n",
              "        }\n",
              "      </script>\n",
              "    </div>\n",
              "  </div>\n",
              "  "
            ]
          },
          "metadata": {},
          "execution_count": 41
        }
      ]
    },
    {
      "cell_type": "code",
      "execution_count": null,
      "metadata": {
        "colab": {
          "base_uri": "https://localhost:8080/"
        },
        "id": "7nMum1847uPT",
        "outputId": "3f7c1527-9227-4c8a-8425-6ddb56ab0e53"
      },
      "outputs": [
        {
          "output_type": "execute_result",
          "data": {
            "text/plain": [
              "0         glad see parler free speech actually alive wel...\n",
              "1                                        cannot imagine why\n",
              "2         keep keeping robertfrank you awesome real real...\n",
              "3                                   not enough year minimum\n",
              "4                                     thing bloody annoying\n",
              "                                ...                        \n",
              "699995                                               antifa\n",
              "699996                    socialist make case socialist son\n",
              "699997    home not safe denounce fire law enforcement de...\n",
              "699998                          she proven again she insane\n",
              "699999                                            true word\n",
              "Name: body, Length: 700000, dtype: object"
            ]
          },
          "metadata": {},
          "execution_count": 42
        }
      ],
      "source": [
        "# 7. Select relevant information (only body of posts) from pandas dataframe\n",
        "parleys = parler_df_all['body']\n",
        "parleys"
      ]
    },
    {
      "cell_type": "code",
      "source": [
        "# 8. Drop duplicates of posts\n",
        "parleys.drop_duplicates(inplace=True)\n",
        "parleys = parleys.reset_index(drop=True)\n",
        "parleys"
      ],
      "metadata": {
        "colab": {
          "base_uri": "https://localhost:8080/"
        },
        "id": "L5ERfkB0FH6e",
        "outputId": "af29dd81-aea5-47b5-e8ea-a98b133c59b1"
      },
      "execution_count": null,
      "outputs": [
        {
          "output_type": "execute_result",
          "data": {
            "text/plain": [
              "0         glad see parler free speech actually alive wel...\n",
              "1                                        cannot imagine why\n",
              "2         keep keeping robertfrank you awesome real real...\n",
              "3                                   not enough year minimum\n",
              "4                                     thing bloody annoying\n",
              "                                ...                        \n",
              "523660    grandkids call gramma daughter call mom still ...\n",
              "523661    evidence foreign interference election insurre...\n",
              "523662                    socialist make case socialist son\n",
              "523663    home not safe denounce fire law enforcement de...\n",
              "523664                          she proven again she insane\n",
              "Name: body, Length: 523665, dtype: object"
            ]
          },
          "metadata": {},
          "execution_count": 43
        }
      ]
    },
    {
      "cell_type": "code",
      "source": [
        "# 9. Drop posts with 3 words or less\n",
        "parleys = parleys[parleys.str.split().str.len().gt(3)]\n",
        "parleys"
      ],
      "metadata": {
        "colab": {
          "base_uri": "https://localhost:8080/"
        },
        "id": "OHhunrYoGTE3",
        "outputId": "cbec3788-3732-4001-a646-bff6592a3ce1"
      },
      "execution_count": null,
      "outputs": [
        {
          "output_type": "execute_result",
          "data": {
            "text/plain": [
              "0         glad see parler free speech actually alive wel...\n",
              "2         keep keeping robertfrank you awesome real real...\n",
              "3                                   not enough year minimum\n",
              "5                would like stick fudge bar somewhere nancy\n",
              "6              welcome great you follow favorite commentary\n",
              "                                ...                        \n",
              "523660    grandkids call gramma daughter call mom still ...\n",
              "523661    evidence foreign interference election insurre...\n",
              "523662                    socialist make case socialist son\n",
              "523663    home not safe denounce fire law enforcement de...\n",
              "523664                          she proven again she insane\n",
              "Name: body, Length: 409068, dtype: object"
            ]
          },
          "metadata": {},
          "execution_count": 56
        }
      ]
    },
    {
      "cell_type": "code",
      "execution_count": null,
      "metadata": {
        "colab": {
          "base_uri": "https://localhost:8080/"
        },
        "id": "r-9jtf7VBK65",
        "outputId": "673f25f2-a065-4408-a999-f0b147bab148"
      },
      "outputs": [
        {
          "output_type": "execute_result",
          "data": {
            "text/plain": [
              "0        already know that next move hope trump nerve a...\n",
              "1                                praying rudy america need\n",
              "2        electedofficialsgoingto something pay stop kin...\n",
              "3                   kpeklund leadership leader need leader\n",
              "4                                   grew hour north austin\n",
              "                               ...                        \n",
              "99995    think meant aim bidena deranged person speaker...\n",
              "99996    pitter patter let get there country save becam...\n",
              "99997    know pissed knew trump vote getting going stay...\n",
              "99998    quite frankly that sure gather sheep rule over...\n",
              "99999    nothing new that year people listen take word ...\n",
              "Name: body, Length: 100000, dtype: object"
            ]
          },
          "metadata": {},
          "execution_count": 68
        }
      ],
      "source": [
        "# 10. Create dataframe for training sentence transformer with 100.000 randomly selected posts \n",
        "parleys_train = parleys.sample(n=100000, random_state=1, ignore_index=True) \n",
        "parleys_train"
      ]
    },
    {
      "cell_type": "code",
      "execution_count": null,
      "metadata": {
        "colab": {
          "base_uri": "https://localhost:8080/"
        },
        "id": "icuWrZ0s7yRG",
        "outputId": "98a76b4c-e38a-4b06-cc5d-0683c1b765cf"
      },
      "outputs": [
        {
          "output_type": "execute_result",
          "data": {
            "text/plain": [
              "0         glad see parler free speech actually alive wel...\n",
              "1                                   not enough year minimum\n",
              "2         wonder kamalaharris blm think white guy placed...\n",
              "3         agreed seemed like close race till inner city ...\n",
              "4         well well abercrombie fitch president canada e...\n",
              "                                ...                        \n",
              "309063    politician concerned covering ass not represen...\n",
              "309064                rent kid hell barack mike rented them\n",
              "309065    whom biden carry anything especially itcome pe...\n",
              "309066                              pedo fly head never lie\n",
              "309067    grandkids call gramma daughter call mom still ...\n",
              "Name: body, Length: 309068, dtype: object"
            ]
          },
          "metadata": {},
          "execution_count": 69
        }
      ],
      "source": [
        "# 11. Create dataframe for testing topic modelling algorithms with the remaining posts (309063 parleys)\n",
        "parleys_test = pd.concat([parleys, parleys_train], ignore_index=True).drop_duplicates(keep=False).reset_index(drop=True)\n",
        "parleys_test"
      ]
    },
    {
      "cell_type": "code",
      "execution_count": null,
      "metadata": {
        "id": "ON2_yha7C12k"
      },
      "outputs": [],
      "source": [
        "# 12. Save the two final dataframes without index as CSV files \n",
        "parleys_train.to_csv('parleys_train.csv', index=False)\n",
        "parleys_test.to_csv('parleys_test.csv', index=False)"
      ]
    }
  ],
  "metadata": {
    "accelerator": "GPU",
    "colab": {
      "collapsed_sections": [],
      "provenance": [],
      "authorship_tag": "ABX9TyN2umyGUF35YBuphTHDg5Xf",
      "include_colab_link": true
    },
    "gpuClass": "standard",
    "kernelspec": {
      "display_name": "Python 3",
      "name": "python3"
    },
    "language_info": {
      "name": "python"
    }
  },
  "nbformat": 4,
  "nbformat_minor": 0
}